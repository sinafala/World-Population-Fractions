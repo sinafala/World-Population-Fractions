{
 "cells": [
  {
   "cell_type": "code",
   "execution_count": null,
   "metadata": {},
   "outputs": [
    {
     "name": "stderr",
     "output_type": "stream",
     "text": [
      "/Users/eungangchoi/anaconda/lib/python3.6/site-packages/requests/__init__.py:91: RequestsDependencyWarning: urllib3 (1.25.7) or chardet (2.3.0) doesn't match a supported version!\n",
      "  RequestsDependencyWarning)\n"
     ]
    }
   ],
   "source": [
    "import pandas as pd\n",
    "import numpy as np\n",
    "import requests\n",
    "import seaborn as sns\n",
    "import matplotlib.pyplot as plt\n",
    "%matplotlib inline "
   ]
  },
  {
   "cell_type": "markdown",
   "metadata": {},
   "source": [
    "### Download file from URL and save in directory"
   ]
  },
  {
   "cell_type": "code",
   "execution_count": null,
   "metadata": {},
   "outputs": [],
   "source": [
    "url = 'https://population.un.org/wpp/Download/Files/1_Indicators%20(Standard)/EXCEL_FILES/1_Population/WPP2019_POP_F01_1_TOTAL_POPULATION_BOTH_SEXES.xlsx'\n",
    "r = requests.get(url, allow_redirects=True)\n",
    "open('WPP2019_POP_F01_1_TOTAL_POPULATION_BOTH_SEXES.xlsx', 'wb').write(r.content)"
   ]
  },
  {
   "cell_type": "markdown",
   "metadata": {},
   "source": [
    "### Grab two sheets from the excel file to dataframe"
   ]
  },
  {
   "cell_type": "code",
   "execution_count": null,
   "metadata": {
    "collapsed": true
   },
   "outputs": [],
   "source": [
    "df1 = pd.read_excel(\"WPP2017_POP_F01_1_TOTAL_POPULATION_BOTH_SEXES.xlsx\", sheet_name=\"ESTIMATES\", header=16, index_col='Region, subregion, country or area *')\n",
    "df2 = pd.read_excel(\"WPP2017_POP_F01_1_TOTAL_POPULATION_BOTH_SEXES.xlsx\", sheet_name=\"MEDIUM VARIANT\", header=16, index_col='Region, subregion, country or area *')"
   ]
  },
  {
   "cell_type": "markdown",
   "metadata": {},
   "source": [
    "### Grab the necessary cells in the right format"
   ]
  },
  {
   "cell_type": "code",
   "execution_count": null,
   "metadata": {
    "collapsed": true
   },
   "outputs": [],
   "source": [
    "df1 = df1.loc[['WORLD','Africa','China','India','Europe','Latin America and the Caribbean','Northern America']]\n",
    "df1 = df1.iloc[:,6:]\n",
    "df2 = df2.loc[['WORLD','Africa','China','India','Europe','Latin America and the Caribbean','Northern America']]\n",
    "df2 = df2.iloc[:,7:]"
   ]
  },
  {
   "cell_type": "markdown",
   "metadata": {},
   "source": [
    "### Merge two sheets"
   ]
  },
  {
   "cell_type": "code",
   "execution_count": null,
   "metadata": {
    "collapsed": true
   },
   "outputs": [],
   "source": [
    "out = pd.concat([df1, df2], axis=1)\n",
    "out.index=['World', 'Africa', 'China', 'India', 'Europe', 'South America', 'North America']"
   ]
  },
  {
   "cell_type": "code",
   "execution_count": null,
   "metadata": {
    "collapsed": true
   },
   "outputs": [],
   "source": [
    "add = []\n",
    "for i in range(len(out.columns)):\n",
    "    a = (int(out.iloc[:1,i]) - sum(out.iloc[1:,i]))\n",
    "    add.append(a)"
   ]
  },
  {
   "cell_type": "code",
   "execution_count": null,
   "metadata": {
    "collapsed": true
   },
   "outputs": [],
   "source": [
    "add = pd.DataFrame([add], index=[\"Other\"], columns = out.columns)\n",
    "out = pd.concat([out, add], axis=0)"
   ]
  },
  {
   "cell_type": "markdown",
   "metadata": {},
   "source": [
    "### Output csv file for R plotting"
   ]
  },
  {
   "cell_type": "code",
   "execution_count": null,
   "metadata": {
    "collapsed": true
   },
   "outputs": [],
   "source": [
    "pops = out[['1950', '1970', '1990', '2010', '2020', '2040', '2060', '2080', '2100']]\n",
    "pops.to_csv(\"pops.csv\")"
   ]
  },
  {
   "cell_type": "markdown",
   "metadata": {},
   "source": [
    "### Calculate fraction for each region/country relative to the World population"
   ]
  },
  {
   "cell_type": "code",
   "execution_count": null,
   "metadata": {
    "collapsed": true
   },
   "outputs": [],
   "source": [
    "a = pd.DataFrame()"
   ]
  },
  {
   "cell_type": "code",
   "execution_count": null,
   "metadata": {
    "collapsed": true
   },
   "outputs": [],
   "source": [
    "for i in range(1,8):\n",
    "    a[i] = out.iloc[i]/out.iloc[0]"
   ]
  },
  {
   "cell_type": "code",
   "execution_count": null,
   "metadata": {
    "collapsed": true,
    "scrolled": true
   },
   "outputs": [],
   "source": [
    "a.columns = ['Africa', 'China', 'India', 'Europe', 'South America', 'North America', 'Other']\n",
    "a = a.apply(pd.to_numeric)"
   ]
  },
  {
   "cell_type": "markdown",
   "metadata": {},
   "source": [
    "### Plot using Seaborn Lineplot"
   ]
  },
  {
   "cell_type": "code",
   "execution_count": null,
   "metadata": {},
   "outputs": [],
   "source": [
    "sns.set_style(\"darkgrid\", {\"axes.facecolor\": \".95\"})\n",
    "plot = sns.lineplot(data=a,dashes=False)\n",
    "fig = plot.get_figure()\n",
    "plot.set_ylabel('Fraction of World Population')\n",
    "plot.set_xlabel('Year')\n",
    "fig.get_axes()[0].legend(loc='upper left', fontsize='8')\n",
    "vals = plot.get_yticks()\n",
    "plot.set_yticklabels(['{:.0%}'.format(x) for x in vals], fontsize=8)"
   ]
  },
  {
   "cell_type": "markdown",
   "metadata": {},
   "source": [
    "### Export figure as png file"
   ]
  },
  {
   "cell_type": "code",
   "execution_count": null,
   "metadata": {
    "collapsed": true
   },
   "outputs": [],
   "source": [
    "fig.savefig('frac.png', dpi=400)"
   ]
  },
  {
   "cell_type": "markdown",
   "metadata": {},
   "source": [
    "### Final Outputs\n",
    "- UN WPP excel file\n",
    "- pops.csv for R plotting\n",
    "- frac.png with the line plot"
   ]
  }
 ],
 "metadata": {
  "kernelspec": {
   "display_name": "Python 3",
   "language": "python",
   "name": "python3"
  },
  "language_info": {
   "codemirror_mode": {
    "name": "ipython",
    "version": 3
   },
   "file_extension": ".py",
   "mimetype": "text/x-python",
   "name": "python",
   "nbconvert_exporter": "python",
   "pygments_lexer": "ipython3",
   "version": "3.6.10"
  }
 },
 "nbformat": 4,
 "nbformat_minor": 2
}
